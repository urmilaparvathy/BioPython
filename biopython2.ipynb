{
 "cells": [
  {
   "cell_type": "code",
   "execution_count": 2,
   "id": "e092d833-d5c4-45f2-9a79-b635496d842d",
   "metadata": {},
   "outputs": [],
   "source": [
    "import Bio"
   ]
  },
  {
   "cell_type": "code",
   "execution_count": 3,
   "id": "c73d7a2d-ee34-4428-ad19-433c86b027ea",
   "metadata": {},
   "outputs": [],
   "source": [
    "from Bio.Seq import Seq"
   ]
  },
  {
   "cell_type": "code",
   "execution_count": 6,
   "id": "4ca1a50b-b04e-44ea-afb0-4d4e0b57cd6f",
   "metadata": {},
   "outputs": [
    {
     "name": "stdin",
     "output_type": "stream",
     "text": [
      "enter the first DNA sequence AAATTT\n",
      "enter the second DNA sequence GGGATC\n"
     ]
    },
    {
     "name": "stdout",
     "output_type": "stream",
     "text": [
      "Reverse complement of the concatenated sequence: GATCCCAAATTT\n"
     ]
    }
   ],
   "source": [
    "sequence1 = input(\"enter the first DNA sequence\")\n",
    "sequence2 = input(\"enter the second DNA sequence\")\n",
    "seq1 = Seq(sequence1)\n",
    "seq2 = Seq(sequence2)\n",
    "concatenated_sequence = seq1 + seq2\n",
    "reverse_comp_sequence = concatenated_sequence.reverse_complement()\n",
    "print(\"Reverse complement of the concatenated sequence:\", reverse_comp_sequence)"
   ]
  },
  {
   "cell_type": "code",
   "execution_count": 7,
   "id": "bf09b744-dc19-4c12-8c3e-bef94fc4d940",
   "metadata": {},
   "outputs": [
    {
     "name": "stdin",
     "output_type": "stream",
     "text": [
      "Enter the DNA sequence:  AAACTCGGGGGT\n"
     ]
    },
    {
     "name": "stdout",
     "output_type": "stream",
     "text": [
      "DNA sequence: AAACTCGGGGGT\n",
      "mRNA sequence: AAACUCGGGGGU\n",
      "Protein sequence: KLGG\n",
      "Protein sequence (single-letter code): X\n"
     ]
    }
   ],
   "source": [
    "from Bio.Seq import Seq\n",
    "from Bio.SeqUtils import seq1\n",
    "\n",
    "# Get input from the user\n",
    "dna_sequence = input(\"Enter the DNA sequence: \")\n",
    "\n",
    "# Create Seq object from the input DNA sequence\n",
    "dna_seq = Seq(dna_sequence)\n",
    "\n",
    "# Obtain the mRNA sequence\n",
    "mRNA_seq = dna_seq.transcribe()\n",
    "\n",
    "# Obtain the protein sequence\n",
    "protein_seq = dna_seq.translate(to_stop=True)\n",
    "\n",
    "# Print the results\n",
    "print(\"DNA sequence:\", dna_seq)\n",
    "print(\"mRNA sequence:\", mRNA_seq)\n",
    "print(\"Protein sequence:\", protein_seq)\n",
    "print(\"Protein sequence (single-letter code):\", seq1(protein_seq))"
   ]
  },
  {
   "cell_type": "code",
   "execution_count": null,
   "id": "561b0970-f05b-4465-a399-0ed2b99d8afb",
   "metadata": {},
   "outputs": [],
   "source": [
    "from Bio import SeqIO\n",
    "\n",
    "def write_single_sequence_fasta(sequence, output_filename):\n",
    "    with open(output_filename, \"w\") as output_file:\n",
    "        SeqIO.write(sequence, output_file, \"fasta\")\n",
    "\n",
    "def split_fasta(input_filename):\n",
    "    records = list(SeqIO.parse(input_filename, \"fasta\"))\n",
    "\n",
    "    for i, record in enumerate(records, 1):\n",
    "        output_filename = f\"sequence{i}.fasta\"\n",
    "        write_single_sequence_fasta(record, output_filename)\n",
    "        print(f\"Created {output_filename}\")\n",
    "\n",
    "# Get input from the user\n",
    "input_filename = input(\"Enter the multi-sequence FASTA file name (e.g., sequences.fasta): \")\n",
    "\n",
    "# Split the multi-sequence FASTA file into individual single-sequence FASTA files\n",
    "split_fasta(input_filename)"
   ]
  },
  {
   "cell_type": "code",
   "execution_count": null,
   "id": "24798bc7-b976-4d80-bbd2-84b82ed831af",
   "metadata": {},
   "outputs": [],
   "source": []
  }
 ],
 "metadata": {
  "kernelspec": {
   "display_name": "Python 3 (ipykernel)",
   "language": "python",
   "name": "python3"
  },
  "language_info": {
   "codemirror_mode": {
    "name": "ipython",
    "version": 3
   },
   "file_extension": ".py",
   "mimetype": "text/x-python",
   "name": "python",
   "nbconvert_exporter": "python",
   "pygments_lexer": "ipython3",
   "version": "3.12.1"
  }
 },
 "nbformat": 4,
 "nbformat_minor": 5
}
