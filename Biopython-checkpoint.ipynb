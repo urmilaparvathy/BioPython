{
 "cells": [
  {
   "cell_type": "code",
   "execution_count": 2,
   "id": "4d9b8516-e708-4057-9054-4ae9453fd928",
   "metadata": {},
   "outputs": [],
   "source": [
    "import Bio"
   ]
  },
  {
   "cell_type": "code",
   "execution_count": 4,
   "id": "a12adf45-7d83-4785-a1a3-2962ed76d821",
   "metadata": {},
   "outputs": [
    {
     "data": {
      "text/plain": [
       "'1.82'"
      ]
     },
     "execution_count": 4,
     "metadata": {},
     "output_type": "execute_result"
    }
   ],
   "source": [
    "Bio.__version__"
   ]
  },
  {
   "cell_type": "code",
   "execution_count": 5,
   "id": "14246297-aa47-4e5b-8ebf-3586223a9ef7",
   "metadata": {},
   "outputs": [],
   "source": [
    "from Bio import Align"
   ]
  },
  {
   "cell_type": "code",
   "execution_count": 6,
   "id": "218795f9-5468-4974-b6b8-d4310754b1cf",
   "metadata": {},
   "outputs": [],
   "source": [
    "aligner = Align.PairwiseAligner(match_score= 1.0)"
   ]
  },
  {
   "cell_type": "code",
   "execution_count": 7,
   "id": "ba2a3e71-ee2d-4378-8ffa-616b0e90f737",
   "metadata": {},
   "outputs": [],
   "source": [
    "seq1 = \"GAACT\""
   ]
  },
  {
   "cell_type": "code",
   "execution_count": 8,
   "id": "8a05e694-89c2-4de4-8af1-30ebeb81a6d1",
   "metadata": {},
   "outputs": [],
   "source": [
    "seq2 = \"GAT\""
   ]
  },
  {
   "cell_type": "code",
   "execution_count": 9,
   "id": "2d26d947-815e-4bd0-8887-e72a73fc07c9",
   "metadata": {},
   "outputs": [],
   "source": [
    "score = aligner.score(seq1,seq2)"
   ]
  },
  {
   "cell_type": "code",
   "execution_count": 10,
   "id": "5c2d1d52-ae59-415e-bf5c-24e237b924d0",
   "metadata": {},
   "outputs": [
    {
     "name": "stdout",
     "output_type": "stream",
     "text": [
      "3.0\n"
     ]
    }
   ],
   "source": [
    "print(score)"
   ]
  },
  {
   "cell_type": "code",
   "execution_count": 11,
   "id": "5b38384e-5bec-4f9d-8be5-1377f45dd222",
   "metadata": {},
   "outputs": [],
   "source": [
    "aligner.mode = \"local\""
   ]
  },
  {
   "cell_type": "code",
   "execution_count": 12,
   "id": "19c9ca8b-36a3-44e4-a70f-399ae9cbcf33",
   "metadata": {},
   "outputs": [],
   "source": [
    "seq3 =\"AGAACTC\"\n",
    "seq4 =\"GAACTACC\""
   ]
  },
  {
   "cell_type": "code",
   "execution_count": 13,
   "id": "e7a1793b-251f-4a2a-973d-f71c85101726",
   "metadata": {},
   "outputs": [
    {
     "name": "stdout",
     "output_type": "stream",
     "text": [
      "6.0\n"
     ]
    }
   ],
   "source": [
    "scoreLocal = aligner.score(seq3,seq4)\n",
    "print(scoreLocal)"
   ]
  },
  {
   "cell_type": "code",
   "execution_count": 14,
   "id": "9fa1876e-3a60-49bc-8c0c-2a7655cd30bf",
   "metadata": {},
   "outputs": [],
   "source": [
    "alignlocal = aligner.align(seq3,seq4)"
   ]
  },
  {
   "cell_type": "code",
   "execution_count": 15,
   "id": "765de880-c4f1-428f-9a9d-f35d3c40b49e",
   "metadata": {},
   "outputs": [
    {
     "name": "stdout",
     "output_type": "stream",
     "text": [
      "target            1 GAACT-C 7\n",
      "                  0 |||||-| 7\n",
      "query             0 GAACTAC 7\n",
      "\n",
      "target            1 GAACT--C 7\n",
      "                  0 |||||--| 8\n",
      "query             0 GAACTACC 8\n",
      "\n"
     ]
    }
   ],
   "source": [
    "for x in alignlocal:\n",
    "    print(x)"
   ]
  },
  {
   "cell_type": "code",
   "execution_count": null,
   "id": "a04d488c-c8ac-4ed2-8534-e14566d83992",
   "metadata": {},
   "outputs": [],
   "source": []
  }
 ],
 "metadata": {
  "kernelspec": {
   "display_name": "Python 3 (ipykernel)",
   "language": "python",
   "name": "python3"
  },
  "language_info": {
   "codemirror_mode": {
    "name": "ipython",
    "version": 3
   },
   "file_extension": ".py",
   "mimetype": "text/x-python",
   "name": "python",
   "nbconvert_exporter": "python",
   "pygments_lexer": "ipython3",
   "version": "3.12.1"
  }
 },
 "nbformat": 4,
 "nbformat_minor": 5
}
